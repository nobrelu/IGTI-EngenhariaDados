{
 "cells": [
  {
   "cell_type": "markdown",
   "source": [
    "# Trabalhar os dados do Enem 2019 usando PySpark"
   ],
   "metadata": {}
  },
  {
   "cell_type": "code",
   "execution_count": 6,
   "source": [
    "!pip install pyspark\r\n",
    "# ver instalação em: https://medium.com/tinghaochen/how-to-install-pyspark-locally-94501eefe421"
   ],
   "outputs": [
    {
     "output_type": "stream",
     "name": "stdout",
     "text": [
      "^C\n"
     ]
    }
   ],
   "metadata": {}
  },
  {
   "cell_type": "code",
   "execution_count": 5,
   "source": [
    "from pyspark.sql import SparkSession"
   ],
   "outputs": [
    {
     "output_type": "error",
     "ename": "ModuleNotFoundError",
     "evalue": "No module named 'pyspark'",
     "traceback": [
      "\u001b[1;31m---------------------------------------------------------------------------\u001b[0m",
      "\u001b[1;31mModuleNotFoundError\u001b[0m                       Traceback (most recent call last)",
      "\u001b[1;32m<ipython-input-5-61fbc0d156c2>\u001b[0m in \u001b[0;36m<module>\u001b[1;34m\u001b[0m\n\u001b[1;32m----> 1\u001b[1;33m \u001b[1;32mfrom\u001b[0m \u001b[0mpyspark\u001b[0m\u001b[1;33m.\u001b[0m\u001b[0msql\u001b[0m \u001b[1;32mimport\u001b[0m \u001b[0mSparkSession\u001b[0m\u001b[1;33m\u001b[0m\u001b[1;33m\u001b[0m\u001b[0m\n\u001b[0m",
      "\u001b[1;31mModuleNotFoundError\u001b[0m: No module named 'pyspark'"
     ]
    }
   ],
   "metadata": {}
  },
  {
   "cell_type": "code",
   "execution_count": null,
   "source": [
    "spark = SparkSession.builder.master(\"local[*]\").appName(\"ENEMTeste\").getOrCreate()"
   ],
   "outputs": [],
   "metadata": {}
  },
  {
   "cell_type": "code",
   "execution_count": null,
   "source": [
    "enem = (\r\n",
    "    spark\r\n",
    "    .read\r\n",
    "    .format(\"csv\")\r\n",
    "    .options(header=True, inferSchema=True, delimiter=\";\", encoding=\"latin1\")\r\n",
    "    .load(\"./enem2019b/DADOS/MICRODADOS_ENEM_2019.csv\")\r\n",
    ")"
   ],
   "outputs": [],
   "metadata": {}
  },
  {
   "cell_type": "code",
   "execution_count": null,
   "source": [
    "enem.count()"
   ],
   "outputs": [],
   "metadata": {}
  },
  {
   "cell_type": "markdown",
   "source": [
    "### Consulta a dados usando API Spark DataFrames"
   ],
   "metadata": {}
  },
  {
   "cell_type": "code",
   "execution_count": null,
   "source": [
    "{\r\n",
    "    \r\n",
    "    enem\r\n",
    "    .groupBy([\"TP_SEXO\", \"SG_UF_RESIDENCIA\"])\r\n",
    "    .agg(\r\n",
    "        mean(col(\"NU_IDADE\")).alias(\"med_idade\"),\r\n",
    "        mean(col(\"NU_NOTA_MT\")).alias(\"med_nota_mt\")\r\n",
    "        )\r\n",
    "    .show()\r\n",
    "\r\n",
    "}"
   ],
   "outputs": [],
   "metadata": {}
  },
  {
   "cell_type": "code",
   "execution_count": null,
   "source": [
    "enem.createOrReplaceTempView(\"enem\")"
   ],
   "outputs": [],
   "metadata": {}
  },
  {
   "cell_type": "code",
   "execution_count": null,
   "source": [
    "spark.sql(\"\"\" select tp_sexo, avg(nu_idade)\r\n",
    "        from enem\r\n",
    "        groupby tp_sexo\r\n",
    "\r\n",
    "\"\"\").show()"
   ],
   "outputs": [],
   "metadata": {}
  }
 ],
 "metadata": {
  "orig_nbformat": 4,
  "language_info": {
   "name": "python",
   "version": "3.8.8",
   "mimetype": "text/x-python",
   "codemirror_mode": {
    "name": "ipython",
    "version": 3
   },
   "pygments_lexer": "ipython3",
   "nbconvert_exporter": "python",
   "file_extension": ".py"
  },
  "kernelspec": {
   "name": "python3",
   "display_name": "Python 3.8.8 64-bit ('base': conda)"
  },
  "interpreter": {
   "hash": "ee00a69fe1ad94bffd6af735746b41b6033db668e5bcf4a7ef0533a871a2edb6"
  }
 },
 "nbformat": 4,
 "nbformat_minor": 2
}